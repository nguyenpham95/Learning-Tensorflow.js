{
 "cells": [
  {
   "cell_type": "code",
   "execution_count": 1,
   "metadata": {},
   "outputs": [],
   "source": [
    "''' Import libraries '''\n",
    "from IPython import display\n",
    "from sklearn import metrics\n",
    "from matplotlib import cm\n",
    "from matplotlib import gridspec\n",
    "from matplotlib import pyplot as plt\n",
    "from tensorflow.python.data import Dataset\n",
    "\n",
    "import math\n",
    "import numpy as np\n",
    "import pandas as pd\n",
    "import tensorflow as tf"
   ]
  },
  {
   "cell_type": "code",
   "execution_count": 2,
   "metadata": {},
   "outputs": [],
   "source": [
    "''' Set settings for pandas to printed data '''\n",
    "pd.options.display.max_rows = 10\n",
    "pd.options.display.float_format = '{:.1f}'.format"
   ]
  },
  {
   "cell_type": "code",
   "execution_count": 3,
   "metadata": {},
   "outputs": [],
   "source": [
    "housing_dataframe = pd.read_csv('https://storage.googleapis.com/mledu-datasets/california_housing_train.csv', sep = ',')"
   ]
  },
  {
   "cell_type": "code",
   "execution_count": 4,
   "metadata": {},
   "outputs": [
    {
     "data": {
      "text/html": [
       "<div>\n",
       "<style scoped>\n",
       "    .dataframe tbody tr th:only-of-type {\n",
       "        vertical-align: middle;\n",
       "    }\n",
       "\n",
       "    .dataframe tbody tr th {\n",
       "        vertical-align: top;\n",
       "    }\n",
       "\n",
       "    .dataframe thead th {\n",
       "        text-align: right;\n",
       "    }\n",
       "</style>\n",
       "<table border=\"1\" class=\"dataframe\">\n",
       "  <thead>\n",
       "    <tr style=\"text-align: right;\">\n",
       "      <th></th>\n",
       "      <th>longitude</th>\n",
       "      <th>latitude</th>\n",
       "      <th>housing_median_age</th>\n",
       "      <th>total_rooms</th>\n",
       "      <th>total_bedrooms</th>\n",
       "      <th>population</th>\n",
       "      <th>households</th>\n",
       "      <th>median_income</th>\n",
       "      <th>median_house_value</th>\n",
       "    </tr>\n",
       "  </thead>\n",
       "  <tbody>\n",
       "    <tr>\n",
       "      <th>14176</th>\n",
       "      <td>-122.1</td>\n",
       "      <td>37.4</td>\n",
       "      <td>30.0</td>\n",
       "      <td>2937.0</td>\n",
       "      <td>407.0</td>\n",
       "      <td>1097.0</td>\n",
       "      <td>407.0</td>\n",
       "      <td>8.0</td>\n",
       "      <td>473.5</td>\n",
       "    </tr>\n",
       "    <tr>\n",
       "      <th>2552</th>\n",
       "      <td>-117.7</td>\n",
       "      <td>34.1</td>\n",
       "      <td>16.0</td>\n",
       "      <td>2196.0</td>\n",
       "      <td>287.0</td>\n",
       "      <td>949.0</td>\n",
       "      <td>289.0</td>\n",
       "      <td>8.7</td>\n",
       "      <td>354.0</td>\n",
       "    </tr>\n",
       "    <tr>\n",
       "      <th>10047</th>\n",
       "      <td>-119.8</td>\n",
       "      <td>36.8</td>\n",
       "      <td>43.0</td>\n",
       "      <td>2323.0</td>\n",
       "      <td>502.0</td>\n",
       "      <td>1144.0</td>\n",
       "      <td>471.0</td>\n",
       "      <td>2.4</td>\n",
       "      <td>58.7</td>\n",
       "    </tr>\n",
       "    <tr>\n",
       "      <th>516</th>\n",
       "      <td>-117.0</td>\n",
       "      <td>32.7</td>\n",
       "      <td>15.0</td>\n",
       "      <td>3660.0</td>\n",
       "      <td>622.0</td>\n",
       "      <td>2629.0</td>\n",
       "      <td>612.0</td>\n",
       "      <td>4.0</td>\n",
       "      <td>150.1</td>\n",
       "    </tr>\n",
       "    <tr>\n",
       "      <th>10568</th>\n",
       "      <td>-120.5</td>\n",
       "      <td>35.0</td>\n",
       "      <td>32.0</td>\n",
       "      <td>1574.0</td>\n",
       "      <td>447.0</td>\n",
       "      <td>1772.0</td>\n",
       "      <td>463.0</td>\n",
       "      <td>1.9</td>\n",
       "      <td>90.2</td>\n",
       "    </tr>\n",
       "  </tbody>\n",
       "</table>\n",
       "</div>"
      ],
      "text/plain": [
       "       longitude  latitude  housing_median_age  total_rooms  total_bedrooms  \\\n",
       "14176     -122.1      37.4                30.0       2937.0           407.0   \n",
       "2552      -117.7      34.1                16.0       2196.0           287.0   \n",
       "10047     -119.8      36.8                43.0       2323.0           502.0   \n",
       "516       -117.0      32.7                15.0       3660.0           622.0   \n",
       "10568     -120.5      35.0                32.0       1574.0           447.0   \n",
       "\n",
       "       population  households  median_income  median_house_value  \n",
       "14176      1097.0       407.0            8.0               473.5  \n",
       "2552        949.0       289.0            8.7               354.0  \n",
       "10047      1144.0       471.0            2.4                58.7  \n",
       "516        2629.0       612.0            4.0               150.1  \n",
       "10568      1772.0       463.0            1.9                90.2  "
      ]
     },
     "execution_count": 4,
     "metadata": {},
     "output_type": "execute_result"
    }
   ],
   "source": [
    "''' Shufffle dataset '''\n",
    "housing_dataframe = housing_dataframe.reindex(np.random.permutation(housing_dataframe.index))\n",
    "housing_dataframe['median_house_value'] /= 1000\n",
    "housing_dataframe.head()"
   ]
  },
  {
   "cell_type": "code",
   "execution_count": 43,
   "metadata": {},
   "outputs": [
    {
     "data": {
      "text/plain": [
       "{'population': array([1097.,  949., 1144., ..., 1020., 1024., 1440.])}"
      ]
     },
     "execution_count": 43,
     "metadata": {},
     "output_type": "execute_result"
    }
   ],
   "source": [
    "''' Define features and targets series '''\n",
    "features = housing_dataframe[['population']]\n",
    "targets = housing_dataframe['median_house_value']\n",
    "\n",
    "features_ttt = {key: np.array(value) for key,value in dict(features).items()}\n",
    "features_ttt"
   ]
  },
  {
   "cell_type": "code",
   "execution_count": 20,
   "metadata": {},
   "outputs": [
    {
     "data": {
      "text/plain": [
       "<TensorSliceDataset shapes: ({population: ()}, ()), types: ({population: tf.float64}, tf.float64)>"
      ]
     },
     "execution_count": 20,
     "metadata": {},
     "output_type": "execute_result"
    }
   ],
   "source": [
    "''' Create a tensor from the features and targets data'''\n",
    "ds = Dataset.from_tensor_slices((features_ttt, targets))\n",
    "ds"
   ]
  },
  {
   "cell_type": "code",
   "execution_count": 6,
   "metadata": {},
   "outputs": [],
   "source": [
    "''' Construct a feature collum basing on the features series '''\n",
    "features_columns = [tf.feature_column.numeric_column('population')]"
   ]
  },
  {
   "cell_type": "code",
   "execution_count": 7,
   "metadata": {},
   "outputs": [
    {
     "name": "stdout",
     "output_type": "stream",
     "text": [
      "INFO:tensorflow:Using default config.\n",
      "WARNING:tensorflow:Using temporary folder as model directory: C:\\Users\\Nguyen\\AppData\\Local\\Temp\\tmpzgnft826\n",
      "INFO:tensorflow:Using config: {'_model_dir': 'C:\\\\Users\\\\Nguyen\\\\AppData\\\\Local\\\\Temp\\\\tmpzgnft826', '_tf_random_seed': None, '_save_summary_steps': 100, '_save_checkpoints_steps': None, '_save_checkpoints_secs': 600, '_session_config': None, '_keep_checkpoint_max': 5, '_keep_checkpoint_every_n_hours': 10000, '_log_step_count_steps': 100, '_train_distribute': None, '_service': None, '_cluster_spec': <tensorflow.python.training.server_lib.ClusterSpec object at 0x000002921310FC88>, '_task_type': 'worker', '_task_id': 0, '_global_id_in_cluster': 0, '_master': '', '_evaluation_master': '', '_is_chief': True, '_num_ps_replicas': 0, '_num_worker_replicas': 1}\n"
     ]
    }
   ],
   "source": [
    "''' Init a linear model using gradient descent optimizer '''\n",
    "optimizer = tf.train.GradientDescentOptimizer(learning_rate = 0.0000001)\n",
    "linear_regressor = tf.estimator.LinearRegressor(\n",
    "    feature_columns = features_columns,\n",
    "    optimizer = optimizer\n",
    ")"
   ]
  },
  {
   "cell_type": "code",
   "execution_count": 22,
   "metadata": {},
   "outputs": [],
   "source": [
    "''' Define the input function '''\n",
    "def input_fn(features, targets, batch_size = 1, shuffle = True, num_epochs = None):\n",
    "    \"\"\"Trains a linear regression model of one feature.\n",
    "  \n",
    "    Args:\n",
    "        features: pandas DataFrame of features\n",
    "        targets: pandas DataFrame of targets\n",
    "        batch_size: Size of batches to be passed to the model\n",
    "        shuffle: True or False. Whether to shuffle the data.\n",
    "        num_epochs: Number of epochs for which data should be repeated. None = repeat indefinitely\n",
    "    Returns:\n",
    "        Tuple of (features, labels) for next data batch\n",
    "    \"\"\"\n",
    "  \n",
    "    # Convert pandas data into a dict of np arrays.\n",
    "    features = {key:np.array(value) for key, value in dict(features).items()}                                           \n",
    " \n",
    "    # Construct a dataset, and configure batching/repeating.\n",
    "    ds = Dataset.from_tensor_slices((features, targets)) # warning: 2GB limit\n",
    "    ds = ds.batch(batch_size).repeat(num_epochs)\n",
    "    \n",
    "    # Shuffle the data, if specified.\n",
    "    if shuffle:\n",
    "        ds = ds.shuffle(buffer_size=10000)\n",
    "    \n",
    "    # Return the next batch of data.\n",
    "    features, labels = ds.make_one_shot_iterator().get_next()\n",
    "    return features, labels"
   ]
  },
  {
   "cell_type": "code",
   "execution_count": 23,
   "metadata": {},
   "outputs": [
    {
     "name": "stdout",
     "output_type": "stream",
     "text": [
      "INFO:tensorflow:Calling model_fn.\n",
      "INFO:tensorflow:Done calling model_fn.\n",
      "INFO:tensorflow:Create CheckpointSaverHook.\n",
      "INFO:tensorflow:Graph was finalized.\n",
      "INFO:tensorflow:Running local_init_op.\n",
      "INFO:tensorflow:Done running local_init_op.\n",
      "INFO:tensorflow:Saving checkpoints for 1 into C:\\Users\\Nguyen\\AppData\\Local\\Temp\\tmpzgnft826\\model.ckpt.\n",
      "INFO:tensorflow:loss = 5256.25, step = 0\n",
      "INFO:tensorflow:global_step/sec: 436.532\n",
      "INFO:tensorflow:loss = 8858.441, step = 100 (0.230 sec)\n",
      "INFO:tensorflow:global_step/sec: 602.63\n",
      "INFO:tensorflow:loss = 3379.7234, step = 200 (0.166 sec)\n",
      "INFO:tensorflow:global_step/sec: 797.874\n",
      "INFO:tensorflow:loss = 102.9849, step = 300 (0.125 sec)\n",
      "INFO:tensorflow:global_step/sec: 785.308\n",
      "INFO:tensorflow:loss = 3825.6196, step = 400 (0.127 sec)\n",
      "INFO:tensorflow:global_step/sec: 831.032\n",
      "INFO:tensorflow:loss = 5429.5464, step = 500 (0.120 sec)\n",
      "INFO:tensorflow:global_step/sec: 807.564\n",
      "INFO:tensorflow:loss = 3789.2952, step = 600 (0.124 sec)\n",
      "INFO:tensorflow:global_step/sec: 782.229\n",
      "INFO:tensorflow:loss = 2929.744, step = 700 (0.127 sec)\n",
      "INFO:tensorflow:global_step/sec: 770.15\n",
      "INFO:tensorflow:loss = 12751.095, step = 800 (0.130 sec)\n",
      "INFO:tensorflow:global_step/sec: 810.843\n",
      "INFO:tensorflow:loss = 257.90906, step = 900 (0.123 sec)\n",
      "INFO:tensorflow:Saving checkpoints for 1000 into C:\\Users\\Nguyen\\AppData\\Local\\Temp\\tmpzgnft826\\model.ckpt.\n",
      "INFO:tensorflow:Loss for final step: 451300.78.\n"
     ]
    }
   ],
   "source": [
    "''' Train the model '''\n",
    "_ = linear_regressor.train(\n",
    "    input_fn = lambda: input_fn(features, targets),\n",
    "    steps = 1000\n",
    ")"
   ]
  },
  {
   "cell_type": "code",
   "execution_count": 24,
   "metadata": {},
   "outputs": [],
   "source": [
    "''' \n",
    "    Create an input function for predictions.\n",
    "    Note: Since we're making just one prediction for each example, we don't \n",
    "    need to repeat or shuffle the data here. \n",
    "'''\n",
    "pred_input_fn = lambda: input_fn(features, targets, num_epochs = 1, shuffle = False)"
   ]
  },
  {
   "cell_type": "code",
   "execution_count": 26,
   "metadata": {},
   "outputs": [],
   "source": [
    "''' Call prediction '''\n",
    "predictions = linear_regressor.predict(input_fn = pred_input_fn)"
   ]
  },
  {
   "cell_type": "code",
   "execution_count": 28,
   "metadata": {},
   "outputs": [
    {
     "name": "stdout",
     "output_type": "stream",
     "text": [
      "INFO:tensorflow:Calling model_fn.\n",
      "INFO:tensorflow:Done calling model_fn.\n",
      "INFO:tensorflow:Graph was finalized.\n",
      "INFO:tensorflow:Restoring parameters from C:\\Users\\Nguyen\\AppData\\Local\\Temp\\tmpzgnft826\\model.ckpt-1000\n",
      "INFO:tensorflow:Running local_init_op.\n",
      "INFO:tensorflow:Done running local_init_op.\n"
     ]
    }
   ],
   "source": [
    "''' Format predictions as a NumPy array, so we can calculate error metrics. '''\n",
    "predictions = np.array([item['predictions'][0] for item in predictions])"
   ]
  },
  {
   "cell_type": "code",
   "execution_count": 29,
   "metadata": {},
   "outputs": [
    {
     "data": {
      "text/plain": [
       "array([ -817.1102 ,  -706.86865,  -852.11945, ...,  -759.7548 ,\n",
       "        -762.7343 , -1072.6027 ], dtype=float32)"
      ]
     },
     "execution_count": 29,
     "metadata": {},
     "output_type": "execute_result"
    }
   ],
   "source": [
    "predictions"
   ]
  },
  {
   "cell_type": "code",
   "execution_count": 31,
   "metadata": {},
   "outputs": [
    {
     "data": {
      "text/plain": [
       "1535.3362696850697"
      ]
     },
     "execution_count": 31,
     "metadata": {},
     "output_type": "execute_result"
    }
   ],
   "source": [
    "''' Calculate mean squared error '''\n",
    "mean_squared_error = metrics.mean_squared_error(predictions, targets)\n",
    "root_mean_squared_error = math.sqrt(mean_squared_error)\n",
    "\n",
    "root_mean_squared_error"
   ]
  },
  {
   "cell_type": "code",
   "execution_count": 38,
   "metadata": {},
   "outputs": [
    {
     "data": {
      "text/html": [
       "<div>\n",
       "<style scoped>\n",
       "    .dataframe tbody tr th:only-of-type {\n",
       "        vertical-align: middle;\n",
       "    }\n",
       "\n",
       "    .dataframe tbody tr th {\n",
       "        vertical-align: top;\n",
       "    }\n",
       "\n",
       "    .dataframe thead th {\n",
       "        text-align: right;\n",
       "    }\n",
       "</style>\n",
       "<table border=\"1\" class=\"dataframe\">\n",
       "  <thead>\n",
       "    <tr style=\"text-align: right;\">\n",
       "      <th></th>\n",
       "      <th>predictions</th>\n",
       "      <th>targets</th>\n",
       "    </tr>\n",
       "  </thead>\n",
       "  <tbody>\n",
       "    <tr>\n",
       "      <th>0</th>\n",
       "      <td>-817.1</td>\n",
       "      <td>66.9</td>\n",
       "    </tr>\n",
       "    <tr>\n",
       "      <th>1</th>\n",
       "      <td>-706.9</td>\n",
       "      <td>80.1</td>\n",
       "    </tr>\n",
       "    <tr>\n",
       "      <th>2</th>\n",
       "      <td>-852.1</td>\n",
       "      <td>85.7</td>\n",
       "    </tr>\n",
       "    <tr>\n",
       "      <th>3</th>\n",
       "      <td>-1958.3</td>\n",
       "      <td>73.4</td>\n",
       "    </tr>\n",
       "    <tr>\n",
       "      <th>4</th>\n",
       "      <td>-1319.9</td>\n",
       "      <td>65.5</td>\n",
       "    </tr>\n",
       "  </tbody>\n",
       "</table>\n",
       "</div>"
      ],
      "text/plain": [
       "   predictions  targets\n",
       "0       -817.1     66.9\n",
       "1       -706.9     80.1\n",
       "2       -852.1     85.7\n",
       "3      -1958.3     73.4\n",
       "4      -1319.9     65.5"
      ]
     },
     "execution_count": 38,
     "metadata": {},
     "output_type": "execute_result"
    }
   ],
   "source": [
    "''' Store predicted data as a new DataFrame for plotting '''\n",
    "calibration_data = pd.DataFrame()\n",
    "calibration_data[\"predictions\"] = pd.Series(predictions)\n",
    "calibration_data[\"targets\"] = pd.Series(targets)\n",
    "\n",
    "calibration_data.head()"
   ]
  },
  {
   "cell_type": "code",
   "execution_count": 42,
   "metadata": {},
   "outputs": [
    {
     "data": {
      "text/html": [
       "<div>\n",
       "<style scoped>\n",
       "    .dataframe tbody tr th:only-of-type {\n",
       "        vertical-align: middle;\n",
       "    }\n",
       "\n",
       "    .dataframe tbody tr th {\n",
       "        vertical-align: top;\n",
       "    }\n",
       "\n",
       "    .dataframe thead th {\n",
       "        text-align: right;\n",
       "    }\n",
       "</style>\n",
       "<table border=\"1\" class=\"dataframe\">\n",
       "  <thead>\n",
       "    <tr style=\"text-align: right;\">\n",
       "      <th></th>\n",
       "      <th>longitude</th>\n",
       "      <th>latitude</th>\n",
       "      <th>housing_median_age</th>\n",
       "      <th>total_rooms</th>\n",
       "      <th>total_bedrooms</th>\n",
       "      <th>population</th>\n",
       "      <th>households</th>\n",
       "      <th>median_income</th>\n",
       "      <th>median_house_value</th>\n",
       "    </tr>\n",
       "  </thead>\n",
       "  <tbody>\n",
       "    <tr>\n",
       "      <th>3803</th>\n",
       "      <td>-117.9</td>\n",
       "      <td>33.9</td>\n",
       "      <td>33.0</td>\n",
       "      <td>1013.0</td>\n",
       "      <td>312.0</td>\n",
       "      <td>706.0</td>\n",
       "      <td>266.0</td>\n",
       "      <td>2.1</td>\n",
       "      <td>197.5</td>\n",
       "    </tr>\n",
       "    <tr>\n",
       "      <th>1782</th>\n",
       "      <td>-117.3</td>\n",
       "      <td>34.1</td>\n",
       "      <td>33.0</td>\n",
       "      <td>2271.0</td>\n",
       "      <td>389.0</td>\n",
       "      <td>1100.0</td>\n",
       "      <td>380.0</td>\n",
       "      <td>3.6</td>\n",
       "      <td>88.3</td>\n",
       "    </tr>\n",
       "    <tr>\n",
       "      <th>10377</th>\n",
       "      <td>-120.2</td>\n",
       "      <td>39.3</td>\n",
       "      <td>14.0</td>\n",
       "      <td>10098.0</td>\n",
       "      <td>1545.0</td>\n",
       "      <td>701.0</td>\n",
       "      <td>254.0</td>\n",
       "      <td>4.1</td>\n",
       "      <td>141.3</td>\n",
       "    </tr>\n",
       "    <tr>\n",
       "      <th>4458</th>\n",
       "      <td>-118.0</td>\n",
       "      <td>34.2</td>\n",
       "      <td>38.0</td>\n",
       "      <td>1594.0</td>\n",
       "      <td>249.0</td>\n",
       "      <td>633.0</td>\n",
       "      <td>247.0</td>\n",
       "      <td>6.0</td>\n",
       "      <td>350.7</td>\n",
       "    </tr>\n",
       "    <tr>\n",
       "      <th>6024</th>\n",
       "      <td>-118.2</td>\n",
       "      <td>34.1</td>\n",
       "      <td>40.0</td>\n",
       "      <td>1081.0</td>\n",
       "      <td>282.0</td>\n",
       "      <td>970.0</td>\n",
       "      <td>263.0</td>\n",
       "      <td>1.9</td>\n",
       "      <td>150.0</td>\n",
       "    </tr>\n",
       "  </tbody>\n",
       "</table>\n",
       "</div>"
      ],
      "text/plain": [
       "       longitude  latitude  housing_median_age  total_rooms  total_bedrooms  \\\n",
       "3803      -117.9      33.9                33.0       1013.0           312.0   \n",
       "1782      -117.3      34.1                33.0       2271.0           389.0   \n",
       "10377     -120.2      39.3                14.0      10098.0          1545.0   \n",
       "4458      -118.0      34.2                38.0       1594.0           249.0   \n",
       "6024      -118.2      34.1                40.0       1081.0           282.0   \n",
       "\n",
       "       population  households  median_income  median_house_value  \n",
       "3803        706.0       266.0            2.1               197.5  \n",
       "1782       1100.0       380.0            3.6                88.3  \n",
       "10377       701.0       254.0            4.1               141.3  \n",
       "4458        633.0       247.0            6.0               350.7  \n",
       "6024        970.0       263.0            1.9               150.0  "
      ]
     },
     "execution_count": 42,
     "metadata": {},
     "output_type": "execute_result"
    }
   ],
   "source": [
    "''' Get a smaple for plotting '''\n",
    "sample = housing_dataframe.sample(n = 300)\n",
    "sample.head()"
   ]
  },
  {
   "cell_type": "code",
   "execution_count": 39,
   "metadata": {},
   "outputs": [
    {
     "data": {
      "text/plain": [
       "Text(0.5,0,'population')"
      ]
     },
     "execution_count": 39,
     "metadata": {},
     "output_type": "execute_result"
    },
    {
     "data": {
      "image/png": "[encoded data removed]",
      "text/plain": [
       "<Figure size 432x288 with 1 Axes>"
      ]
     },
     "metadata": {},
     "output_type": "display_data"
    }
   ],
   "source": [
    "''' Plot data '''\n",
    "# Get the min and max total_rooms values.\n",
    "x_0 = sample[\"population\"].min()\n",
    "x_1 = sample[\"population\"].max()\n",
    "\n",
    "# Retrieve the final weight and bias generated during training.\n",
    "weight = linear_regressor.get_variable_value('linear/linear_model/population/weights')[0]\n",
    "bias = linear_regressor.get_variable_value('linear/linear_model/bias_weights')\n",
    "\n",
    "# Get the predicted median_house_values for the min and max total_rooms values.\n",
    "y_0 = weight * x_0 + bias \n",
    "y_1 = weight * x_1 + bias\n",
    "\n",
    "# Plot our regression line from (x_0, y_0) to (x_1, y_1).\n",
    "plt.plot([x_0, x_1], [y_0, y_1], c='r')\n",
    "\n",
    "plt.ylabel(\"median_house_value\")\n",
    "plt.xlabel(\"population\")"
   ]
  },
  {
   "cell_type": "code",
   "execution_count": 41,
   "metadata": {},
   "outputs": [
    {
     "data": {
      "image/png": "[encoded data removed]",
      "text/plain": [
       "<Figure size 432x288 with 1 Axes>"
      ]
     },
     "metadata": {},
     "output_type": "display_data"
    }
   ],
   "source": [
    "''' Create a scatter plot '''\n",
    "# Plot a scatter plot from our data sample.\n",
    "plt.scatter(sample[\"population\"], sample[\"median_house_value\"])\n",
    "\n",
    "plt.xlabel(\"population\")\n",
    "plt.ylabel(\"median_house_value\")\n",
    "\n",
    "# Display graph.\n",
    "plt.show()"
   ]
  },
  {
   "cell_type": "code",
   "execution_count": null,
   "metadata": {},
   "outputs": [],
   "source": []
  }
 ],
 "metadata": {
  "kernelspec": {
   "display_name": "Python 3",
   "language": "python",
   "name": "python3"
  },
  "language_info": {
   "codemirror_mode": {
    "name": "ipython",
    "version": 3
   },
   "file_extension": ".py",
   "mimetype": "text/x-python",
   "name": "python",
   "nbconvert_exporter": "python",
   "pygments_lexer": "ipython3",
   "version": "3.6.5"
  }
 },
 "nbformat": 4,
 "nbformat_minor": 2
}
