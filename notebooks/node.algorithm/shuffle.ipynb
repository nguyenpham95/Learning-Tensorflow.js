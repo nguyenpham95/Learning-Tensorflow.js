{
 "cells": [
  {
   "cell_type": "code",
   "execution_count": null,
   "metadata": {},
   "outputs": [],
   "source": [
    "function shuffle(data, label) {\n",
    "        let counter = data.length;\n",
    "        let temp = 0;\n",
    "        let index = 0;\n",
    "        while (counter > 0) {\n",
    "            index = (Math.random() * counter) | 0;\n",
    "            counter--;\n",
    "            // Shuffle data:\n",
    "            temp = data[counter];\n",
    "            data[counter] = data[index];\n",
    "            data[index] = temp;\n",
    "            // Shuffle label:\n",
    "            temp = label[counter];\n",
    "            label[counter] = label[index];\n",
    "            \n",
    "            label[index] = temp;\n",
    "        }\n",
    "    }"
   ]
  },
  {
   "cell_type": "code",
   "execution_count": null,
   "metadata": {},
   "outputs": [],
   "source": [
    "let data = [[1,2,1], [2,1,1], [1,1,3]];\n",
    "let label = [[1], [2], [3]];\n",
    "\n",
    "shuffle(data, label);"
   ]
  },
  {
   "cell_type": "code",
   "execution_count": 4,
   "metadata": {},
   "outputs": [
    {
     "name": "stdout",
     "output_type": "stream",
     "text": [
      "[ [ 1, 1, 3 ], [ 1, 2, 1 ], [ 2, 1, 1 ] ]\n"
     ]
    }
   ],
   "source": [
    "console.log(data);"
   ]
  },
  {
   "cell_type": "code",
   "execution_count": 5,
   "metadata": {},
   "outputs": [
    {
     "name": "stdout",
     "output_type": "stream",
     "text": [
      "[ [ 3 ], [ 1 ], [ 2 ] ]\n"
     ]
    }
   ],
   "source": [
    "console.log(label);"
   ]
  }
 ],
 "metadata": {
  "kernelspec": {
   "display_name": "Javascript (Node.js)",
   "language": "javascript",
   "name": "javascript"
  },
  "language_info": {
   "file_extension": ".js",
   "mimetype": "application/javascript",
   "name": "javascript",
   "version": "10.4.0"
  }
 },
 "nbformat": 4,
 "nbformat_minor": 2
}
