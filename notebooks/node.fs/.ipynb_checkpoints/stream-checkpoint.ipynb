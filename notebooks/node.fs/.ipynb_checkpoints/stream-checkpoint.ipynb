{
 "cells": [
  {
   "cell_type": "code",
   "execution_count": 2,
   "metadata": {},
   "outputs": [],
   "source": [
    "const fs = require('fs');"
   ]
  },
  {
   "cell_type": "code",
   "execution_count": 2,
   "metadata": {},
   "outputs": [],
   "source": [
    "var newStream = fs.createReadStream(`../../${__dirname}/db/housing.csv`);"
   ]
  },
  {
   "cell_type": "markdown",
   "metadata": {},
   "source": [
    "<p>For reading and parse data into string/number, use 'utf8' parser</p>"
   ]
  },
  {
   "cell_type": "code",
   "execution_count": 21,
   "metadata": {},
   "outputs": [],
   "source": [
    "// var newStream = fs.createReadStream(`../../${__dirname}/db/housing.csv`, 'utf8');"
   ]
  },
  {
   "cell_type": "markdown",
   "metadata": {},
   "source": [
    "Then execute code every time new data is pushed into the readStream"
   ]
  },
  {
   "cell_type": "code",
   "execution_count": 3,
   "metadata": {},
   "outputs": [
    {
     "data": {
      "text/plain": [
       "ReadStream {\n",
       "  _readableState:\n",
       "   ReadableState {\n",
       "     objectMode: false,\n",
       "     highWaterMark: 65536,\n",
       "     buffer: BufferList { length: 1 },\n",
       "     length: 65536,\n",
       "     pipes: null,\n",
       "     pipesCount: 0,\n",
       "     flowing: true,\n",
       "     ended: false,\n",
       "     endEmitted: false,\n",
       "     reading: false,\n",
       "     sync: false,\n",
       "     needReadable: true,\n",
       "     emittedReadable: true,\n",
       "     readableListening: false,\n",
       "     resumeScheduled: true,\n",
       "     emitClose: false,\n",
       "     destroyed: false,\n",
       "     defaultEncoding: 'utf8',\n",
       "     awaitDrain: 0,\n",
       "     readingMore: false,\n",
       "     decoder: null,\n",
       "     encoding: null },\n",
       "  readable: true,\n",
       "  _events: { end: [Function], data: [Function] },\n",
       "  _eventsCount: 2,\n",
       "  _maxListeners: undefined,\n",
       "  path: '../.././db/housing.csv',\n",
       "  fd: 11,\n",
       "  flags: 'r',\n",
       "  mode: 438,\n",
       "  start: undefined,\n",
       "  end: Infinity,\n",
       "  autoClose: true,\n",
       "  pos: undefined,\n",
       "  bytesRead: 65536,\n",
       "  closed: false }"
      ]
     },
     "execution_count": 3,
     "metadata": {},
     "output_type": "execute_result"
    },
    {
     "name": "stdout",
     "output_type": "stream",
     "text": [
      "New chunk received <Buffer 22 6c 6f 6e 67 69 74 75 64 65 22 2c 22 6c 61 74 69 74 75 64 65 22 2c 22 68 6f 75 73 69 6e 67 5f 6d 65 64 69 61 6e 5f 61 67 65 22 2c 22 74 6f 74 61 6c ... >\n",
      "New chunk received <Buffer 2c 36 2e 35 34 31 32 30 30 2c 32 35 34 32 30 30 2e 30 30 30 30 30 30 0a 2d 31 31 37 2e 30 34 30 30 30 30 2c 33 32 2e 38 30 30 30 30 30 2c 32 35 2e 30 ... >\n",
      "New chunk received <Buffer 30 30 30 30 30 30 2c 32 36 34 34 2e 30 30 30 30 30 30 2c 36 37 34 2e 30 30 30 30 30 30 2c 31 32 31 31 2e 30 30 30 30 30 30 2c 36 35 34 2e 30 30 30 30 ... >\n",
      "New chunk received <Buffer 30 30 30 2c 33 33 2e 32 32 30 30 30 30 2c 34 2e 30 30 30 30 30 30 2c 31 34 39 36 30 2e 30 30 30 30 30 30 2c 32 39 38 38 2e 30 30 30 30 30 30 2c 36 36 ... >\n",
      "New chunk received <Buffer 30 38 31 2e 30 30 30 30 30 30 2c 34 30 39 2e 30 30 30 30 30 30 2c 31 30 30 38 2e 30 30 30 30 30 30 2c 33 37 35 2e 30 30 30 30 30 30 2c 32 2e 35 38 37 ... >\n",
      "New chunk received <Buffer 2c 34 36 38 2e 30 30 30 30 30 30 2c 31 2e 39 33 30 39 30 30 2c 31 37 33 34 30 30 2e 30 30 30 30 30 30 0a 2d 31 31 37 2e 38 36 30 30 30 30 2c 33 33 2e ... >\n",
      "New chunk received <Buffer 30 30 30 30 30 30 2c 34 2e 35 37 36 39 30 30 2c 31 35 39 34 30 30 2e 30 30 30 30 30 30 0a 2d 31 31 37 2e 39 36 30 30 30 30 2c 33 34 2e 31 34 30 30 30 ... >\n",
      "New chunk received <Buffer 30 30 2c 31 32 37 32 2e 30 30 30 30 30 30 2c 34 35 34 2e 30 30 30 30 30 30 2c 38 2e 37 30 31 35 30 30 2c 33 39 30 39 30 30 2e 30 30 30 30 30 30 0a 2d ... >\n",
      "New chunk received <Buffer 2c 34 35 2e 30 30 30 30 30 30 2c 31 30 31 36 2e 30 30 30 30 30 30 2c 31 37 32 2e 30 30 30 30 30 30 2c 33 36 31 2e 30 30 30 30 30 30 2c 31 36 33 2e 30 ... >\n",
      "New chunk received <Buffer 30 30 30 2c 32 2e 34 32 36 37 30 30 2c 31 35 31 35 30 30 2e 30 30 30 30 30 30 0a 2d 31 31 38 2e 32 30 30 30 30 30 2c 33 33 2e 39 34 30 30 30 30 2c 34 ... >\n",
      "New chunk received <Buffer 2c 31 2e 39 31 38 35 30 30 2c 39 33 33 30 30 2e 30 30 30 30 30 30 0a 2d 31 31 38 2e 32 37 30 30 30 30 2c 33 33 2e 39 31 30 30 30 30 2c 34 32 2e 30 30 ... >\n",
      "New chunk received <Buffer 30 30 2c 32 32 32 30 30 30 2e 30 30 30 30 30 30 0a 2d 31 31 38 2e 33 33 30 30 30 30 2c 33 34 2e 31 39 30 30 30 30 2c 34 35 2e 30 30 30 30 30 30 2c 31 ... >\n",
      "New chunk received <Buffer 30 2c 33 34 30 36 30 30 2e 30 30 30 30 30 30 0a 2d 31 31 38 2e 33 39 30 30 30 30 2c 33 34 2e 30 30 30 30 30 30 2c 34 30 2e 30 30 30 30 30 30 2c 31 35 ... >\n",
      "New chunk received <Buffer 2e 30 30 30 30 30 30 0a 2d 31 31 38 2e 34 38 30 30 30 30 2c 33 34 2e 30 31 30 30 30 30 2c 33 31 2e 30 30 30 30 30 30 2c 32 38 35 31 2e 30 30 30 30 30 ... >\n",
      "New chunk received <Buffer 30 30 30 2c 33 35 2e 33 31 30 30 30 30 2c 31 39 2e 30 30 30 30 30 30 2c 37 30 39 32 2e 30 30 30 30 30 30 2c 31 35 31 37 2e 30 30 30 30 30 30 2c 34 31 ... >\n",
      "New chunk received <Buffer 2c 32 33 32 36 30 30 2e 30 30 30 30 30 30 0a 2d 31 31 39 2e 36 37 30 30 30 30 2c 33 34 2e 33 38 30 30 30 30 2c 32 38 2e 30 30 30 30 30 30 2c 31 38 31 ... >\n",
      "New chunk received <Buffer 30 30 30 30 30 0a 2d 31 32 30 2e 33 30 30 30 30 30 2c 33 37 2e 33 34 30 30 30 30 2c 33 33 2e 30 30 30 30 30 30 2c 39 39 33 2e 30 30 30 30 30 30 2c 31 ... >\n",
      "New chunk received <Buffer 30 2c 31 35 38 30 2e 30 30 30 30 30 30 2c 33 38 35 2e 30 30 30 30 30 30 2c 38 38 31 2e 30 30 30 30 30 30 2c 33 36 31 2e 30 30 30 30 30 30 2c 32 2e 37 ... >\n",
      "New chunk received <Buffer 30 30 30 30 2c 37 38 38 2e 30 30 30 30 30 30 2c 33 32 30 2e 30 30 30 30 30 30 2c 33 2e 36 30 39 34 30 30 2c 31 31 38 34 30 30 2e 30 30 30 30 30 30 0a ... >\n",
      "New chunk received <Buffer 30 2c 31 2e 34 39 33 34 30 30 2c 34 38 33 30 30 2e 30 30 30 30 30 30 0a 2d 31 32 31 2e 35 36 30 30 30 30 2c 33 39 2e 30 31 30 30 30 30 2c 32 32 2e 30 ... >\n",
      "New chunk received <Buffer 30 30 30 30 30 2c 36 2e 32 38 39 32 30 30 2c 32 35 34 32 30 30 2e 30 30 30 30 30 30 0a 2d 31 32 31 2e 38 37 30 30 30 30 2c 33 37 2e 34 32 30 30 30 30 ... >\n",
      "New chunk received <Buffer 32 30 36 32 2e 30 30 30 30 30 30 2c 33 34 33 2e 30 30 30 30 30 30 2c 38 37 32 2e 30 30 30 30 30 30 2c 32 36 38 2e 30 30 30 30 30 30 2c 35 2e 32 36 33 ... >\n",
      "New chunk received <Buffer 37 30 30 30 30 30 2c 31 39 2e 30 30 30 30 30 30 2c 32 36 39 33 2e 30 30 30 30 30 30 2c 37 38 39 2e 30 30 30 30 30 30 2c 31 37 36 35 2e 30 30 30 30 30 ... >\n",
      "New chunk received <Buffer 31 30 38 35 30 30 2e 30 30 30 30 30 30 0a 2d 31 32 32 2e 32 35 30 30 30 30 2c 34 30 2e 36 30 30 30 30 30 2c 31 36 2e 30 30 30 30 30 30 2c 32 37 35 33 ... >\n",
      "New chunk received <Buffer 32 32 37 30 30 2c 31 30 35 30 30 30 2e 30 30 30 30 30 30 0a 2d 31 32 32 2e 33 38 30 30 30 30 2c 34 30 2e 35 38 30 30 30 30 2c 33 36 2e 30 30 30 30 30 ... >\n",
      "New chunk received <Buffer 33 34 34 2e 30 30 30 30 30 30 2c 38 33 38 2e 30 30 30 30 30 30 2c 33 31 34 2e 30 30 30 30 30 30 2c 34 2e 31 34 31 39 30 30 2c 32 39 31 35 30 30 2e 30 ... >\n",
      "New chunk received <Buffer 30 30 0a 2d 31 32 34 2e 31 37 30 30 30 30 2c 34 30 2e 37 36 30 30 30 30 2c 32 36 2e 30 30 30 30 30 30 2c 31 37 37 36 2e 30 30 30 30 30 30 2c 33 36 31 ... >\n"
     ]
    }
   ],
   "source": [
    "newStream.on('data', (chunk) => {\n",
    "   console.log('New chunk received', chunk); \n",
    "});"
   ]
  },
  {
   "cell_type": "markdown",
   "metadata": {},
   "source": [
    "Now let think about creating an http server"
   ]
  },
  {
   "cell_type": "markdown",
   "metadata": {},
   "source": [
    "The server will response this csv when a request is made"
   ]
  },
  {
   "cell_type": "markdown",
   "metadata": {},
   "source": [
    "For this task, we will create a read stream of the data file for every new request, then pipe the stream into response"
   ]
  },
  {
   "cell_type": "markdown",
   "metadata": {},
   "source": [
    "Lets see how it works"
   ]
  },
  {
   "cell_type": "code",
   "execution_count": 1,
   "metadata": {},
   "outputs": [],
   "source": [
    "const http = require('http')"
   ]
  },
  {
   "cell_type": "code",
   "execution_count": 3,
   "metadata": {},
   "outputs": [
    {
     "name": "stdout",
     "output_type": "stream",
     "text": [
      "Server is running at 127.0.0.1:3000\n",
      "A request was made by /\n",
      "A request was made by /favicon.ico\n",
      "A request was made by /favicon.ico\n",
      "A request was made by /\n"
     ]
    }
   ],
   "source": [
    "let server = http.createServer((req, res) => {\n",
    "    console.log('A request was made by', req.url);\n",
    "    res.writeHead(200, {'Content-Type': 'text/plain'});\n",
    "    \n",
    "    let newStream = fs.createReadStream(`../../${__dirname}/db/housing.csv`, 'utf8');\n",
    "    newStream.pipe(res);\n",
    "});\n",
    "server.listen(3000, '127.0.0.1');\n",
    "console.log('Server is running at 127.0.0.1:3000');"
   ]
  },
  {
   "cell_type": "markdown",
   "metadata": {},
   "source": [
    "When you visit the page at http://localhost:3000"
   ]
  },
  {
   "cell_type": "markdown",
   "metadata": {},
   "source": [
    "Then you will see the result pulled from the csv file"
   ]
  },
  {
   "cell_type": "markdown",
   "metadata": {},
   "source": [
    "\"longitude\",\"latitude\",\"housing_median_age\",\"total_rooms\",\"total_bedrooms\",\"population\",\"households\",\"median_income\",\"median_house_value\"\n",
    "-114.310000,34.190000,15.000000,5612.000000,1283.000000,1015.000000,472.000000,1.493600,66900.000000\n",
    "-114.470000,34.400000,19.000000,7650.000000,1901.000000,1129.000000,463.000000,1.820000,80100.000000\n",
    "-114.560000,33.690000,17.000000,720.000000,174.000000,333.000000,117.000000,1.650900,85700.000000\n",
    "-114.570000,33.640000,14.000000,1501.000000,337.000000,515.000000,226.000000,3.191700,73400.000000\n",
    "-114.570000,33.570000,20.000000,1454.000000,326.000000,624.000000,262.000000,1.925000,65500.000000\n",
    "..."
   ]
  },
  {
   "cell_type": "code",
   "execution_count": null,
   "metadata": {},
   "outputs": [],
   "source": []
  }
 ],
 "metadata": {
  "kernelspec": {
   "display_name": "Javascript (Node.js)",
   "language": "javascript",
   "name": "javascript"
  },
  "language_info": {
   "file_extension": ".js",
   "mimetype": "application/javascript",
   "name": "javascript",
   "version": "10.4.0"
  }
 },
 "nbformat": 4,
 "nbformat_minor": 2
}
