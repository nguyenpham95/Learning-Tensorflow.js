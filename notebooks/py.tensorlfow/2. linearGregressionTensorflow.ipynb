{
 "cells": [
  {
   "cell_type": "code",
   "execution_count": 20,
   "metadata": {},
   "outputs": [],
   "source": [
    "''' Import libraries '''\n",
    "from IPython import display\n",
    "from sklearn import metrics\n",
    "from matplotlib import cm\n",
    "from matplotlib import gridspec\n",
    "from matplotlib import pyplot as plt\n",
    "from tensorflow.python.data import Dataset\n",
    "\n",
    "import math\n",
    "import numpy as np\n",
    "import pandas as pd\n",
    "import tensorflow as tf"
   ]
  },
  {
   "cell_type": "code",
   "execution_count": 21,
   "metadata": {},
   "outputs": [],
   "source": [
    "''' Set settings for pandas to printed data '''\n",
    "pd.options.display.max_rows = 10\n",
    "pd.options.display.float_format = '{:.1f}'.format"
   ]
  },
  {
   "cell_type": "code",
   "execution_count": 22,
   "metadata": {},
   "outputs": [],
   "source": [
    "housing_dataframe = pd.read_csv('https://storage.googleapis.com/mledu-datasets/california_housing_train.csv', sep = ',')"
   ]
  },
  {
   "cell_type": "code",
   "execution_count": 23,
   "metadata": {},
   "outputs": [
    {
     "data": {
      "text/html": [
       "<div>\n",
       "<style scoped>\n",
       "    .dataframe tbody tr th:only-of-type {\n",
       "        vertical-align: middle;\n",
       "    }\n",
       "\n",
       "    .dataframe tbody tr th {\n",
       "        vertical-align: top;\n",
       "    }\n",
       "\n",
       "    .dataframe thead th {\n",
       "        text-align: right;\n",
       "    }\n",
       "</style>\n",
       "<table border=\"1\" class=\"dataframe\">\n",
       "  <thead>\n",
       "    <tr style=\"text-align: right;\">\n",
       "      <th></th>\n",
       "      <th>longitude</th>\n",
       "      <th>latitude</th>\n",
       "      <th>housing_median_age</th>\n",
       "      <th>total_rooms</th>\n",
       "      <th>total_bedrooms</th>\n",
       "      <th>population</th>\n",
       "      <th>households</th>\n",
       "      <th>median_income</th>\n",
       "      <th>median_house_value</th>\n",
       "    </tr>\n",
       "  </thead>\n",
       "  <tbody>\n",
       "    <tr>\n",
       "      <th>10869</th>\n",
       "      <td>-120.8</td>\n",
       "      <td>39.3</td>\n",
       "      <td>14.0</td>\n",
       "      <td>3338.0</td>\n",
       "      <td>608.0</td>\n",
       "      <td>1373.0</td>\n",
       "      <td>562.0</td>\n",
       "      <td>3.7</td>\n",
       "      <td>160.1</td>\n",
       "    </tr>\n",
       "    <tr>\n",
       "      <th>3650</th>\n",
       "      <td>-117.9</td>\n",
       "      <td>33.9</td>\n",
       "      <td>32.0</td>\n",
       "      <td>1683.0</td>\n",
       "      <td>273.0</td>\n",
       "      <td>719.0</td>\n",
       "      <td>263.0</td>\n",
       "      <td>5.4</td>\n",
       "      <td>243.6</td>\n",
       "    </tr>\n",
       "    <tr>\n",
       "      <th>5329</th>\n",
       "      <td>-118.2</td>\n",
       "      <td>34.2</td>\n",
       "      <td>37.0</td>\n",
       "      <td>1997.0</td>\n",
       "      <td>361.0</td>\n",
       "      <td>1037.0</td>\n",
       "      <td>363.0</td>\n",
       "      <td>3.8</td>\n",
       "      <td>210.3</td>\n",
       "    </tr>\n",
       "    <tr>\n",
       "      <th>2515</th>\n",
       "      <td>-117.6</td>\n",
       "      <td>33.5</td>\n",
       "      <td>7.0</td>\n",
       "      <td>7684.0</td>\n",
       "      <td>1088.0</td>\n",
       "      <td>2812.0</td>\n",
       "      <td>1057.0</td>\n",
       "      <td>6.3</td>\n",
       "      <td>387.3</td>\n",
       "    </tr>\n",
       "    <tr>\n",
       "      <th>14416</th>\n",
       "      <td>-122.1</td>\n",
       "      <td>37.4</td>\n",
       "      <td>36.0</td>\n",
       "      <td>2607.0</td>\n",
       "      <td>551.0</td>\n",
       "      <td>1165.0</td>\n",
       "      <td>523.0</td>\n",
       "      <td>5.2</td>\n",
       "      <td>373.1</td>\n",
       "    </tr>\n",
       "  </tbody>\n",
       "</table>\n",
       "</div>"
      ],
      "text/plain": [
       "       longitude  latitude  housing_median_age  total_rooms  total_bedrooms  \\\n",
       "10869     -120.8      39.3                14.0       3338.0           608.0   \n",
       "3650      -117.9      33.9                32.0       1683.0           273.0   \n",
       "5329      -118.2      34.2                37.0       1997.0           361.0   \n",
       "2515      -117.6      33.5                 7.0       7684.0          1088.0   \n",
       "14416     -122.1      37.4                36.0       2607.0           551.0   \n",
       "\n",
       "       population  households  median_income  median_house_value  \n",
       "10869      1373.0       562.0            3.7               160.1  \n",
       "3650        719.0       263.0            5.4               243.6  \n",
       "5329       1037.0       363.0            3.8               210.3  \n",
       "2515       2812.0      1057.0            6.3               387.3  \n",
       "14416      1165.0       523.0            5.2               373.1  "
      ]
     },
     "execution_count": 23,
     "metadata": {},
     "output_type": "execute_result"
    }
   ],
   "source": [
    "''' Shufffle dataset '''\n",
    "housing_dataframe = housing_dataframe.reindex(np.random.permutation(housing_dataframe.index))\n",
    "housing_dataframe['median_house_value'] /= 1000\n",
    "housing_dataframe.head()"
   ]
  },
  {
   "cell_type": "code",
   "execution_count": 24,
   "metadata": {},
   "outputs": [
    {
     "data": {
      "text/plain": [
       "{'population': array([1373.,  719., 1037., ...,  856.,  766., 4614.])}"
      ]
     },
     "execution_count": 24,
     "metadata": {},
     "output_type": "execute_result"
    }
   ],
   "source": [
    "''' Define features and targets series '''\n",
    "features = housing_dataframe[['population']]\n",
    "targets = housing_dataframe['median_house_value']\n",
    "\n",
    "features_ttt = {key: np.array(value) for key,value in dict(features).items()}\n",
    "features_ttt"
   ]
  },
  {
   "cell_type": "code",
   "execution_count": 25,
   "metadata": {},
   "outputs": [
    {
     "data": {
      "text/plain": [
       "<TensorSliceDataset shapes: ({population: ()}, ()), types: ({population: tf.float64}, tf.float64)>"
      ]
     },
     "execution_count": 25,
     "metadata": {},
     "output_type": "execute_result"
    }
   ],
   "source": [
    "''' Create a tensor from the features and targets data'''\n",
    "ds = Dataset.from_tensor_slices((features_ttt, targets))\n",
    "ds"
   ]
  },
  {
   "cell_type": "code",
   "execution_count": 26,
   "metadata": {},
   "outputs": [],
   "source": [
    "''' Construct a feature collum basing on the features series '''\n",
    "features_columns = [tf.feature_column.numeric_column('population')]"
   ]
  },
  {
   "cell_type": "code",
   "execution_count": 27,
   "metadata": {},
   "outputs": [
    {
     "name": "stdout",
     "output_type": "stream",
     "text": [
      "INFO:tensorflow:Using default config.\n",
      "WARNING:tensorflow:Using temporary folder as model directory: C:\\Users\\Nguyen\\AppData\\Local\\Temp\\tmps59isiem\n",
      "INFO:tensorflow:Using config: {'_model_dir': 'C:\\\\Users\\\\Nguyen\\\\AppData\\\\Local\\\\Temp\\\\tmps59isiem', '_tf_random_seed': None, '_save_summary_steps': 100, '_save_checkpoints_steps': None, '_save_checkpoints_secs': 600, '_session_config': None, '_keep_checkpoint_max': 5, '_keep_checkpoint_every_n_hours': 10000, '_log_step_count_steps': 100, '_train_distribute': None, '_service': None, '_cluster_spec': <tensorflow.python.training.server_lib.ClusterSpec object at 0x00000216B0E53A58>, '_task_type': 'worker', '_task_id': 0, '_global_id_in_cluster': 0, '_master': '', '_evaluation_master': '', '_is_chief': True, '_num_ps_replicas': 0, '_num_worker_replicas': 1}\n"
     ]
    }
   ],
   "source": [
    "''' Init a linear model using gradient descent optimizer '''\n",
    "optimizer = tf.train.GradientDescentOptimizer(learning_rate = 0.0000001)\n",
    "linear_regressor = tf.estimator.LinearRegressor(\n",
    "    feature_columns = features_columns,\n",
    "    optimizer = optimizer\n",
    ")"
   ]
  },
  {
   "cell_type": "code",
   "execution_count": 28,
   "metadata": {},
   "outputs": [],
   "source": [
    "''' Define the input function '''\n",
    "def input_fn(features, targets, batch_size = 1, shuffle = True, num_epochs = None):\n",
    "    \"\"\"Trains a linear regression model of one feature.\n",
    "  \n",
    "    Args:\n",
    "        features: pandas DataFrame of features\n",
    "        targets: pandas DataFrame of targets\n",
    "        batch_size: Size of batches to be passed to the model\n",
    "        shuffle: True or False. Whether to shuffle the data.\n",
    "        num_epochs: Number of epochs for which data should be repeated. None = repeat indefinitely\n",
    "    Returns:\n",
    "        Tuple of (features, labels) for next data batch\n",
    "    \"\"\"\n",
    "  \n",
    "    # Convert pandas data into a dict of np arrays.\n",
    "    features = {key:np.array(value) for key, value in dict(features).items()}                                           \n",
    " \n",
    "    # Construct a dataset, and configure batching/repeating.\n",
    "    ds = Dataset.from_tensor_slices((features, targets)) # warning: 2GB limit\n",
    "    ds = ds.batch(batch_size).repeat(num_epochs)\n",
    "    \n",
    "    # Shuffle the data, if specified.\n",
    "    if shuffle:\n",
    "        ds = ds.shuffle(buffer_size=10000)\n",
    "    \n",
    "    # Return the next batch of data.\n",
    "    features, labels = ds.make_one_shot_iterator().get_next()\n",
    "    return features, labels"
   ]
  },
  {
   "cell_type": "code",
   "execution_count": 29,
   "metadata": {},
   "outputs": [
    {
     "name": "stdout",
     "output_type": "stream",
     "text": [
      "INFO:tensorflow:Calling model_fn.\n",
      "INFO:tensorflow:Done calling model_fn.\n",
      "INFO:tensorflow:Create CheckpointSaverHook.\n",
      "INFO:tensorflow:Graph was finalized.\n",
      "INFO:tensorflow:Running local_init_op.\n",
      "INFO:tensorflow:Done running local_init_op.\n",
      "INFO:tensorflow:Saving checkpoints for 1 into C:\\Users\\Nguyen\\AppData\\Local\\Temp\\tmps59isiem\\model.ckpt.\n",
      "INFO:tensorflow:loss = 3136.0, step = 0\n",
      "INFO:tensorflow:global_step/sec: 492.248\n",
      "INFO:tensorflow:loss = 74932.18, step = 100 (0.203 sec)\n",
      "INFO:tensorflow:global_step/sec: 711.05\n",
      "INFO:tensorflow:loss = 213.67868, step = 200 (0.141 sec)\n",
      "INFO:tensorflow:global_step/sec: 799.918\n",
      "INFO:tensorflow:loss = 13723.06, step = 300 (0.125 sec)\n",
      "INFO:tensorflow:global_step/sec: 711.028\n",
      "INFO:tensorflow:loss = 2230.5269, step = 400 (0.141 sec)\n",
      "INFO:tensorflow:global_step/sec: 914.192\n",
      "INFO:tensorflow:loss = 41217.81, step = 500 (0.109 sec)\n",
      "INFO:tensorflow:global_step/sec: 710.946\n",
      "INFO:tensorflow:loss = 13000.553, step = 600 (0.141 sec)\n",
      "INFO:tensorflow:global_step/sec: 800.034\n",
      "INFO:tensorflow:loss = 2800.615, step = 700 (0.125 sec)\n",
      "INFO:tensorflow:global_step/sec: 799.915\n",
      "INFO:tensorflow:loss = 7179.8433, step = 800 (0.125 sec)\n",
      "INFO:tensorflow:global_step/sec: 914.188\n",
      "INFO:tensorflow:loss = 8.050246, step = 900 (0.109 sec)\n",
      "INFO:tensorflow:Saving checkpoints for 1000 into C:\\Users\\Nguyen\\AppData\\Local\\Temp\\tmps59isiem\\model.ckpt.\n",
      "INFO:tensorflow:Loss for final step: 57878.34.\n"
     ]
    }
   ],
   "source": [
    "''' Train the model '''\n",
    "_ = linear_regressor.train(\n",
    "    input_fn = lambda: input_fn(features, targets),\n",
    "    steps = 1000\n",
    ")"
   ]
  },
  {
   "cell_type": "code",
   "execution_count": 30,
   "metadata": {},
   "outputs": [],
   "source": [
    "''' \n",
    "    Create an input function for predictions.\n",
    "    Note: Since we're making just one prediction for each example, we don't \n",
    "    need to repeat or shuffle the data here. \n",
    "'''\n",
    "pred_input_fn = lambda: input_fn(features, targets, num_epochs = 1, shuffle = False)"
   ]
  },
  {
   "cell_type": "code",
   "execution_count": 31,
   "metadata": {},
   "outputs": [],
   "source": [
    "''' Call prediction '''\n",
    "predictions = linear_regressor.predict(input_fn = pred_input_fn)"
   ]
  },
  {
   "cell_type": "code",
   "execution_count": 32,
   "metadata": {},
   "outputs": [
    {
     "name": "stdout",
     "output_type": "stream",
     "text": [
      "INFO:tensorflow:Calling model_fn.\n",
      "INFO:tensorflow:Done calling model_fn.\n",
      "INFO:tensorflow:Graph was finalized.\n",
      "INFO:tensorflow:Restoring parameters from C:\\Users\\Nguyen\\AppData\\Local\\Temp\\tmps59isiem\\model.ckpt-1000\n",
      "INFO:tensorflow:Running local_init_op.\n",
      "INFO:tensorflow:Done running local_init_op.\n"
     ]
    }
   ],
   "source": [
    "''' Format predictions as a NumPy array, so we can calculate error metrics. '''\n",
    "predictions = np.array([item['predictions'][0] for item in predictions])"
   ]
  },
  {
   "cell_type": "code",
   "execution_count": 33,
   "metadata": {},
   "outputs": [
    {
     "data": {
      "text/plain": [
       "array([ -74.32826,  -38.91329,  -56.13341, ...,  -46.33202,  -41.4584 ,\n",
       "       -249.83273], dtype=float32)"
      ]
     },
     "execution_count": 33,
     "metadata": {},
     "output_type": "execute_result"
    }
   ],
   "source": [
    "predictions"
   ]
  },
  {
   "cell_type": "code",
   "execution_count": 34,
   "metadata": {},
   "outputs": [
    {
     "data": {
      "text/plain": [
       "312.9907620206477"
      ]
     },
     "execution_count": 34,
     "metadata": {},
     "output_type": "execute_result"
    }
   ],
   "source": [
    "''' Calculate mean squared error '''\n",
    "mean_squared_error = metrics.mean_squared_error(predictions, targets)\n",
    "root_mean_squared_error = math.sqrt(mean_squared_error)\n",
    "\n",
    "root_mean_squared_error"
   ]
  },
  {
   "cell_type": "code",
   "execution_count": 35,
   "metadata": {},
   "outputs": [
    {
     "data": {
      "text/html": [
       "<div>\n",
       "<style scoped>\n",
       "    .dataframe tbody tr th:only-of-type {\n",
       "        vertical-align: middle;\n",
       "    }\n",
       "\n",
       "    .dataframe tbody tr th {\n",
       "        vertical-align: top;\n",
       "    }\n",
       "\n",
       "    .dataframe thead th {\n",
       "        text-align: right;\n",
       "    }\n",
       "</style>\n",
       "<table border=\"1\" class=\"dataframe\">\n",
       "  <thead>\n",
       "    <tr style=\"text-align: right;\">\n",
       "      <th></th>\n",
       "      <th>predictions</th>\n",
       "      <th>targets</th>\n",
       "    </tr>\n",
       "  </thead>\n",
       "  <tbody>\n",
       "    <tr>\n",
       "      <th>0</th>\n",
       "      <td>-74.3</td>\n",
       "      <td>66.9</td>\n",
       "    </tr>\n",
       "    <tr>\n",
       "      <th>1</th>\n",
       "      <td>-38.9</td>\n",
       "      <td>80.1</td>\n",
       "    </tr>\n",
       "    <tr>\n",
       "      <th>2</th>\n",
       "      <td>-56.1</td>\n",
       "      <td>85.7</td>\n",
       "    </tr>\n",
       "    <tr>\n",
       "      <th>3</th>\n",
       "      <td>-152.3</td>\n",
       "      <td>73.4</td>\n",
       "    </tr>\n",
       "    <tr>\n",
       "      <th>4</th>\n",
       "      <td>-63.1</td>\n",
       "      <td>65.5</td>\n",
       "    </tr>\n",
       "  </tbody>\n",
       "</table>\n",
       "</div>"
      ],
      "text/plain": [
       "   predictions  targets\n",
       "0        -74.3     66.9\n",
       "1        -38.9     80.1\n",
       "2        -56.1     85.7\n",
       "3       -152.3     73.4\n",
       "4        -63.1     65.5"
      ]
     },
     "execution_count": 35,
     "metadata": {},
     "output_type": "execute_result"
    }
   ],
   "source": [
    "''' Store predicted data as a new DataFrame for plotting '''\n",
    "calibration_data = pd.DataFrame()\n",
    "calibration_data[\"predictions\"] = pd.Series(predictions)\n",
    "calibration_data[\"targets\"] = pd.Series(targets)\n",
    "\n",
    "calibration_data.head()"
   ]
  },
  {
   "cell_type": "code",
   "execution_count": 36,
   "metadata": {},
   "outputs": [
    {
     "data": {
      "text/html": [
       "<div>\n",
       "<style scoped>\n",
       "    .dataframe tbody tr th:only-of-type {\n",
       "        vertical-align: middle;\n",
       "    }\n",
       "\n",
       "    .dataframe tbody tr th {\n",
       "        vertical-align: top;\n",
       "    }\n",
       "\n",
       "    .dataframe thead th {\n",
       "        text-align: right;\n",
       "    }\n",
       "</style>\n",
       "<table border=\"1\" class=\"dataframe\">\n",
       "  <thead>\n",
       "    <tr style=\"text-align: right;\">\n",
       "      <th></th>\n",
       "      <th>longitude</th>\n",
       "      <th>latitude</th>\n",
       "      <th>housing_median_age</th>\n",
       "      <th>total_rooms</th>\n",
       "      <th>total_bedrooms</th>\n",
       "      <th>population</th>\n",
       "      <th>households</th>\n",
       "      <th>median_income</th>\n",
       "      <th>median_house_value</th>\n",
       "    </tr>\n",
       "  </thead>\n",
       "  <tbody>\n",
       "    <tr>\n",
       "      <th>5483</th>\n",
       "      <td>-118.2</td>\n",
       "      <td>33.9</td>\n",
       "      <td>32.0</td>\n",
       "      <td>1854.0</td>\n",
       "      <td>471.0</td>\n",
       "      <td>1363.0</td>\n",
       "      <td>478.0</td>\n",
       "      <td>2.6</td>\n",
       "      <td>156.7</td>\n",
       "    </tr>\n",
       "    <tr>\n",
       "      <th>5184</th>\n",
       "      <td>-118.1</td>\n",
       "      <td>33.9</td>\n",
       "      <td>36.0</td>\n",
       "      <td>599.0</td>\n",
       "      <td>125.0</td>\n",
       "      <td>361.0</td>\n",
       "      <td>139.0</td>\n",
       "      <td>5.0</td>\n",
       "      <td>225.8</td>\n",
       "    </tr>\n",
       "    <tr>\n",
       "      <th>14070</th>\n",
       "      <td>-122.0</td>\n",
       "      <td>37.0</td>\n",
       "      <td>20.0</td>\n",
       "      <td>2428.0</td>\n",
       "      <td>473.0</td>\n",
       "      <td>1145.0</td>\n",
       "      <td>454.0</td>\n",
       "      <td>3.7</td>\n",
       "      <td>263.8</td>\n",
       "    </tr>\n",
       "    <tr>\n",
       "      <th>15512</th>\n",
       "      <td>-122.3</td>\n",
       "      <td>37.5</td>\n",
       "      <td>44.0</td>\n",
       "      <td>2151.0</td>\n",
       "      <td>411.0</td>\n",
       "      <td>849.0</td>\n",
       "      <td>370.0</td>\n",
       "      <td>4.5</td>\n",
       "      <td>397.1</td>\n",
       "    </tr>\n",
       "    <tr>\n",
       "      <th>7304</th>\n",
       "      <td>-118.3</td>\n",
       "      <td>34.0</td>\n",
       "      <td>48.0</td>\n",
       "      <td>1172.0</td>\n",
       "      <td>205.0</td>\n",
       "      <td>497.0</td>\n",
       "      <td>190.0</td>\n",
       "      <td>3.8</td>\n",
       "      <td>183.0</td>\n",
       "    </tr>\n",
       "  </tbody>\n",
       "</table>\n",
       "</div>"
      ],
      "text/plain": [
       "       longitude  latitude  housing_median_age  total_rooms  total_bedrooms  \\\n",
       "5483      -118.2      33.9                32.0       1854.0           471.0   \n",
       "5184      -118.1      33.9                36.0        599.0           125.0   \n",
       "14070     -122.0      37.0                20.0       2428.0           473.0   \n",
       "15512     -122.3      37.5                44.0       2151.0           411.0   \n",
       "7304      -118.3      34.0                48.0       1172.0           205.0   \n",
       "\n",
       "       population  households  median_income  median_house_value  \n",
       "5483       1363.0       478.0            2.6               156.7  \n",
       "5184        361.0       139.0            5.0               225.8  \n",
       "14070      1145.0       454.0            3.7               263.8  \n",
       "15512       849.0       370.0            4.5               397.1  \n",
       "7304        497.0       190.0            3.8               183.0  "
      ]
     },
     "execution_count": 36,
     "metadata": {},
     "output_type": "execute_result"
    }
   ],
   "source": [
    "''' Get a smaple for plotting '''\n",
    "sample = housing_dataframe.sample(n = 300)\n",
    "sample.head()"
   ]
  },
  {
   "cell_type": "code",
   "execution_count": 37,
   "metadata": {},
   "outputs": [
    {
     "data": {
      "text/plain": [
       "Text(0.5,0,'population')"
      ]
     },
     "execution_count": 37,
     "metadata": {},
     "output_type": "execute_result"
    },
    {
     "data": {
      "image/png": "[encoded data removed]",
      "text/plain": [
       "<Figure size 432x288 with 1 Axes>"
      ]
     },
     "metadata": {},
     "output_type": "display_data"
    }
   ],
   "source": [
    "''' Plot data '''\n",
    "# Get the min and max total_rooms values.\n",
    "x_0 = sample[\"population\"].min()\n",
    "x_1 = sample[\"population\"].max()\n",
    "\n",
    "# Retrieve the final weight and bias generated during training.\n",
    "weight = linear_regressor.get_variable_value('linear/linear_model/population/weights')[0]\n",
    "bias = linear_regressor.get_variable_value('linear/linear_model/bias_weights')\n",
    "\n",
    "# Get the predicted median_house_values for the min and max total_rooms values.\n",
    "y_0 = weight * x_0 + bias \n",
    "y_1 = weight * x_1 + bias\n",
    "\n",
    "# Plot our regression line from (x_0, y_0) to (x_1, y_1).\n",
    "plt.plot([x_0, x_1], [y_0, y_1], c='r')\n",
    "\n",
    "plt.ylabel(\"median_house_value\")\n",
    "plt.xlabel(\"population\")"
   ]
  },
  {
   "cell_type": "code",
   "execution_count": 38,
   "metadata": {},
   "outputs": [
    {
     "data": {
      "image/png": "[encoded data removed]",
      "text/plain": [
       "<Figure size 432x288 with 1 Axes>"
      ]
     },
     "metadata": {},
     "output_type": "display_data"
    }
   ],
   "source": [
    "''' Create a scatter plot '''\n",
    "# Plot a scatter plot from our data sample.\n",
    "plt.scatter(sample[\"population\"], sample[\"median_house_value\"])\n",
    "\n",
    "plt.xlabel(\"population\")\n",
    "plt.ylabel(\"median_house_value\")\n",
    "\n",
    "# Display graph.\n",
    "plt.show()"
   ]
  },
  {
   "cell_type": "code",
   "execution_count": null,
   "metadata": {},
   "outputs": [],
   "source": []
  }
 ],
 "metadata": {
  "kernelspec": {
   "display_name": "Python 3",
   "language": "python",
   "name": "python3"
  },
  "language_info": {
   "codemirror_mode": {
    "name": "ipython",
    "version": 3
   },
   "file_extension": ".py",
   "mimetype": "text/x-python",
   "name": "python",
   "nbconvert_exporter": "python",
   "pygments_lexer": "ipython3",
   "version": "3.6.5"
  }
 },
 "nbformat": 4,
 "nbformat_minor": 2
}
